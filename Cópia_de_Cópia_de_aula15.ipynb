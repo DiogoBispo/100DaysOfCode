{
  "nbformat": 4,
  "nbformat_minor": 0,
  "metadata": {
    "colab": {
      "provenance": [],
      "toc_visible": true,
      "authorship_tag": "ABX9TyPUH8Vk7FMP0f2K6MpyKfDY",
      "include_colab_link": true
    },
    "kernelspec": {
      "name": "python3",
      "display_name": "Python 3"
    },
    "language_info": {
      "name": "python"
    }
  },
  "cells": [
    {
      "cell_type": "markdown",
      "metadata": {
        "id": "view-in-github",
        "colab_type": "text"
      },
      "source": [
        "<a href=\"https://colab.research.google.com/github/DiogoBispo/100DaysOfCode/blob/main/C%C3%B3pia_de_C%C3%B3pia_de_aula15.ipynb\" target=\"_parent\"><img src=\"https://colab.research.google.com/assets/colab-badge.svg\" alt=\"Open In Colab\"/></a>"
      ]
    },
    {
      "cell_type": "code",
      "execution_count": null,
      "metadata": {
        "colab": {
          "base_uri": "https://localhost:8080/"
        },
        "id": "4llGj3Dpownx",
        "outputId": "235327eb-1a04-413f-f7bb-2468fa8582a8"
      },
      "outputs": [
        {
          "output_type": "stream",
          "name": "stdout",
          "text": [
            "Requirement already satisfied: openpyxl in /usr/local/lib/python3.10/dist-packages (3.1.5)\n",
            "Requirement already satisfied: et-xmlfile in /usr/local/lib/python3.10/dist-packages (from openpyxl) (1.1.0)\n"
          ]
        }
      ],
      "source": [
        "pip install openpyxl\n"
      ]
    },
    {
      "cell_type": "code",
      "source": [
        "from openpyxl import load_workbook\n"
      ],
      "metadata": {
        "id": "dEZp_l3jpA5R"
      },
      "execution_count": null,
      "outputs": []
    },
    {
      "cell_type": "code",
      "source": [
        "wb = load_workbook('banca_jornal1.xlsx')"
      ],
      "metadata": {
        "id": "DCAYqlb3qgUP"
      },
      "execution_count": null,
      "outputs": []
    },
    {
      "cell_type": "code",
      "source": [
        "wb.sheetnames"
      ],
      "metadata": {
        "colab": {
          "base_uri": "https://localhost:8080/"
        },
        "id": "Lw1IMsFVqsV0",
        "outputId": "4aaac5d7-6fab-4b91-ede4-2c1f3c49d09c"
      },
      "execution_count": null,
      "outputs": [
        {
          "output_type": "execute_result",
          "data": {
            "text/plain": [
              "['Planilha1']"
            ]
          },
          "metadata": {},
          "execution_count": 6
        }
      ]
    },
    {
      "cell_type": "code",
      "source": [
        "sheet = wb['Planilha1']"
      ],
      "metadata": {
        "id": "YjeVytUeslWY"
      },
      "execution_count": null,
      "outputs": []
    },
    {
      "cell_type": "markdown",
      "source": [],
      "metadata": {
        "id": "L8zwQWgZ_ri2"
      }
    },
    {
      "cell_type": "code",
      "source": [
        "sheet['A1'].value"
      ],
      "metadata": {
        "colab": {
          "base_uri": "https://localhost:8080/",
          "height": 35
        },
        "id": "xWKYAmu9sySD",
        "outputId": "fdd0abb4-c7de-4551-96b4-fe553967b8f0"
      },
      "execution_count": null,
      "outputs": [
        {
          "output_type": "execute_result",
          "data": {
            "text/plain": [
              "'Produto'"
            ],
            "application/vnd.google.colaboratory.intrinsic+json": {
              "type": "string"
            }
          },
          "metadata": {},
          "execution_count": 9
        }
      ]
    },
    {
      "cell_type": "code",
      "source": [],
      "metadata": {
        "id": "NP6RnHDK371i"
      },
      "execution_count": null,
      "outputs": []
    },
    {
      "cell_type": "code",
      "source": [],
      "metadata": {
        "id": "X1kJkw3m39Fk"
      },
      "execution_count": null,
      "outputs": []
    },
    {
      "cell_type": "code",
      "source": [
        "sheet['C6'].value"
      ],
      "metadata": {
        "colab": {
          "base_uri": "https://localhost:8080/"
        },
        "id": "Kvn1P7cuultg",
        "outputId": "a1398ce6-d528-4a0f-a125-1041d4fe4893"
      },
      "execution_count": null,
      "outputs": [
        {
          "output_type": "execute_result",
          "data": {
            "text/plain": [
              "2.5"
            ]
          },
          "metadata": {},
          "execution_count": 10
        }
      ]
    },
    {
      "cell_type": "code",
      "source": [
        "for linha in range(2, sheet.max_row + 1):\n",
        "    produto = sheet.cell(linha,1).value\n",
        "    un_vendidas = sheet.cell(linha,2).value\n",
        "    vlr_un = sheet.cell(linha,3).value\n",
        "    print(f'O produto {produto} teve {un_vendidas} unidades vendidas pelo valor unitário de R$ {vlr_un}')"
      ],
      "metadata": {
        "colab": {
          "base_uri": "https://localhost:8080/"
        },
        "id": "hgezlcec39tG",
        "outputId": "9711cd63-896d-42c1-aff3-06e9bd2a1e09"
      },
      "execution_count": null,
      "outputs": [
        {
          "output_type": "stream",
          "name": "stdout",
          "text": [
            "O produto Chiclete teve 45 unidades vendidas pelo valor unitário de R$ 1\n",
            "O produto Barra de Chocolate teve 23 unidades vendidas pelo valor unitário de R$ 4\n",
            "O produto Agua mineral teve 66 unidades vendidas pelo valor unitário de R$ 2\n",
            "O produto Jornal teve 4 unidades vendidas pelo valor unitário de R$ 0.5\n",
            "O produto Salgadinho teve 16 unidades vendidas pelo valor unitário de R$ 2.5\n"
          ]
        }
      ]
    },
    {
      "cell_type": "code",
      "source": [],
      "metadata": {
        "id": "ElHu944B4cuI"
      },
      "execution_count": null,
      "outputs": []
    }
  ]
}